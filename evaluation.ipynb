{
  "cells": [
    {
      "cell_type": "markdown",
      "metadata": {
        "id": "view-in-github",
        "colab_type": "text"
      },
      "source": [
        "<a href=\"https://colab.research.google.com/github/danielmohansahu/M3DETR/blob/main/evaluation.ipynb\" target=\"_parent\"><img src=\"https://colab.research.google.com/assets/colab-badge.svg\" alt=\"Open In Colab\"/></a>"
      ]
    },
    {
      "cell_type": "markdown",
      "metadata": {
        "id": "y24nRqXiKroa"
      },
      "source": [
        "# M3DETR Evaluation Notebook\n",
        "\n",
        "This notebook demonstrates evaluation of the [M3DETR](https://arxiv.org/pdf/2104.11896.pdf) 3D Object Detection model architecture and training pipeline. Specifically it supports training and inference of [Group 13's fork](https://github.com/danielmohansahu/M3DETR). All training and evaluation uses the [KITTI 3D Detection Evaluation Dataset](https://www.cvlibs.net/datasets/kitti/eval_object.php?obj_benchmark=3d).\n",
        "\n",
        "Note - this notebook requires memory resources beyond those available in the current free tiers of Google services. In order to run this script you will need the following:\n",
        " 1. Google Colab Pro account\n",
        " 2. A Google Drive with at least 50GB of free space (to cache the processed KITTI Dataset)\n",
        "\n",
        "Assuming those are satisfied, please change the runtime to a GPU-enabled (T4 was used during this testing) and continue."
      ]
    },
    {
      "cell_type": "code",
      "execution_count": null,
      "metadata": {
        "id": "_Xo2vUIrKvUe"
      },
      "outputs": [],
      "source": [
        "# sanity check hardware\n",
        "!nvidia-smi\n",
        "\n",
        "# connect to google drive\n",
        "from google.colab import drive\n",
        "drive.mount('/content/drive')\n",
        "\n",
        "# sanity check required packages are installed\n",
        "import torch\n",
        "import torchvision\n",
        "import pathlib\n",
        "import shutil\n",
        "\n",
        "# install M3DETR dependencies\n",
        "!pip install spconv-cu120 cython"
      ]
    },
    {
      "cell_type": "code",
      "execution_count": null,
      "metadata": {
        "id": "bZffHMPnN7Km"
      },
      "outputs": [],
      "source": [
        "%%time\n",
        "\n",
        "# clone repository\n",
        "!git clone https://github.com/danielmohansahu/M3DETR.git\n",
        "%cd M3DETR\n",
        "\n",
        "# build repository\n",
        "!python3 setup.py develop"
      ]
    },
    {
      "cell_type": "markdown",
      "metadata": {
        "id": "pQNaSgBeR9-G"
      },
      "source": [
        "## KITTI Dataset Prep\n",
        "\n",
        "The following module uses `fiftyone` to download and pre-process the KITTI 3D Object Detection dataset.\n",
        "\n",
        "Due to the large size (~50GB) and significant amount of time required we attempt to sync this processed data to and from our Google Drive. Otherwise we would spend a non-trivial percentage of our allotted Google Colab runtime repeating this same process.\n",
        "\n",
        "Note: this is also the main reason we need to use Google Colab Pro (and an upgraded Google Drive) - the space requirements for even a relatively small dataset like KITTI are beyond those provided by the free Google services.\n",
        "\n",
        "This requires the user to create a `cache` directory in the root of their Google Drive. They must also have roughly 50GB of free space available on their drive. Please be prepared to spend several hours monitoring this process to ensure it succeeds and properly uploads the cached dataset."
      ]
    },
    {
      "cell_type": "code",
      "execution_count": null,
      "metadata": {
        "id": "ClNQ5XemTErn"
      },
      "outputs": [],
      "source": [
        "%%time\n",
        "\n",
        "# local location of drive cache (mounted)\n",
        "cache_file = pathlib.Path(\"/content/drive/MyDrive/cache/m3detr/kitti.zip\")\n",
        "\n",
        "# local root directory of data\n",
        "data_root_dir = pathlib.Path(\"/content/M3DETR/data\")\n",
        "\n",
        "# local location of dataset\n",
        "data_dir = data_root_dir / \"kitti\"\n",
        "\n",
        "if not cache_file.exists():\n",
        "  # download and fully process KITTI from scratch. this will be slow!\n",
        "\n",
        "  # install dataset management helper\n",
        "  !python3 -m pip install fiftyone\n",
        "  !python3 -m pip install fiftyone-db-ubuntu2204\n",
        "\n",
        "  # import dataset management helper\n",
        "  import fiftyone\n",
        "\n",
        "  print(\"Downloading and processing KITTI dataset...\")\n",
        "  # note - this is kind of a hack to avoid a slow unnecessary operation\n",
        "  try:\n",
        "    dataset = fiftyone.zoo.load_zoo_dataset('kitti-multiview', dataset_dir=data_dir.as_posix())\n",
        "  except ImportError:\n",
        "    print(\"Skipping converting PointClouds to PCD; this is unnecessary.\")\n",
        "  else:\n",
        "    raise RuntimeError(\"We shouldn't succeed here - you're going to run out of space!\")\n",
        "\n",
        "  # rename folders to follow expected convention\n",
        "  print(\"Renaming and removing unneeded files / folders...\")\n",
        "  !cd {data_dir.as_posix()} && mv test testing && mv train training\n",
        "  !cd {data_dir.as_posix()} && mv testing/left testing/image_2\n",
        "  !cd {data_dir.as_posix()} && mv training/left training/image_2 && mv training/labels training/label_2\n",
        "\n",
        "  # remove those we don't care about\n",
        "  !cd {data_dir.as_posix()} && rm -rf tmp-download testing/right training/right\n",
        "\n",
        "  # post-process via OpenPCD scripts\n",
        "  print(\"Post-processing dataset for OpenPCD...\")\n",
        "  !python3 -m pcdet.datasets.kitti.kitti_dataset create_kitti_infos \\\n",
        "              tools/cfgs/dataset_configs/kitti_dataset.yaml\n",
        "\n",
        "  # zip up the results for faster copy speeds\n",
        "  print(\"Archiving dataset...\")\n",
        "  !cd {data_root_dir.as_posix()} && zip kitti.zip kitti -r\n",
        "\n",
        "  # finally, copy over results to drive\n",
        "  print(\"Backing up to drive...\")\n",
        "  !cd {data_root_dir.as_posix()} && mv kitti.zip {cache_file.as_posix()}\n",
        "\n",
        "elif not (data_dir / \"training\").is_dir() or not (data_dir / \"testing\").is_dir():\n",
        "  # pull pre-processed KITTI dataset from local drive\n",
        "\n",
        "  print(\"Copying over cached KITTI dataset...\")\n",
        "  !cp {cache_file.as_posix()} {data_root_dir.as_posix()}\n",
        "\n",
        "  print(\"Unzipping cached KITTI dataset...\")\n",
        "  !cd {data_root_dir.as_posix()} && unzip -o kitti.zip\n",
        "\n",
        "# sanity check before continuing\n",
        "for directory in (\"calib\", \"label_2\", \"image_2\", \"velodyne\"):\n",
        "  assert (data_dir / \"training\" / directory).is_dir(), f\"Missing required training data : {directory}\"\n",
        "for directory in (\"calib\", \"image_2\", \"velodyne\"):\n",
        "  assert (data_dir / \"testing\" / directory).is_dir(), f\"Missing required testing data : {directory}\"\n",
        "assert (data_dir / \"kitti_dbinfos_train.pkl\").is_file(), \"Missing required metadata!\"\n",
        "assert (data_dir / \"kitti_infos_test.pkl\").is_file(), \"Missing required metadata!\"\n",
        "assert (data_dir / \"kitti_infos_train.pkl\").is_file(), \"Missing required metadata!\"\n",
        "assert (data_dir / \"kitti_infos_trainval.pkl\").is_file(), \"Missing required metadata!\"\n",
        "assert (data_dir / \"kitti_infos_val.pkl\").is_file(), \"Missing required metadata!\"\n",
        "print(\"KITTI dataset loaded.\")"
      ]
    },
    {
      "cell_type": "markdown",
      "source": [
        "# KITTI Downsampling\n",
        "\n",
        "At the time of writing Google Colab Pro limits runtimes to ~12 hours, which isn't enough time to fully train baseline M3DETR on the KITTI dataset using the same hyperparameters as the original authors. To manage this we downsample the dataset to only train on 1000 scenes."
      ],
      "metadata": {
        "id": "C_q-D6-G41BT"
      }
    },
    {
      "cell_type": "code",
      "execution_count": null,
      "metadata": {
        "id": "mIi1fP6AaDb9"
      },
      "outputs": [],
      "source": [
        "import pickle\n",
        "import os\n",
        "from time import sleep\n",
        "\n",
        "# find all processed metadata files (pkl)\n",
        "pkl = [f for f in data_dir.glob(\"*.pkl\")]\n",
        "print(f\"Trimming each of the following:\\n{pkl}\")\n",
        "\n",
        "def trim_f(data):\n",
        "    \"\"\" Trim the given list to 1000 entries. \"\"\"\n",
        "    cnt = 0\n",
        "    l = len(data)\n",
        "    for i in range(l-1,-1,-1):\n",
        "        if len(data) >1000:\n",
        "\n",
        "            del data[len(data)-1]\n",
        "            # print(cnt,'data entries left')\n",
        "            cnt = len(data)\n",
        "\n",
        "        else:\n",
        "            # print('The data ', cnt, ' is : ', item)\n",
        "            print('Cutting data ended')\n",
        "            break\n",
        "\n",
        "    # sleep(1.5)\n",
        "    return cnt\n",
        "\n",
        "for path in pkl:\n",
        "    with open(path, 'rb+') as f:\n",
        "        data = pickle.load(f)\n",
        "\n",
        "    cnt = len(data)\n",
        "\n",
        "    while( cnt > 1000):\n",
        "\n",
        "        cnt = trim_f(data)\n",
        "\n",
        "        if(cnt==1000):\n",
        "            break\n",
        "\n",
        "    print('Data downsampling done')\n",
        "\n",
        "    f.close()\n",
        "\n",
        "    with open(path, 'wb') as f:\n",
        "        pickle.dump(data,f)\n",
        "\n",
        "print(f\"Finished downsampling dataset.\")"
      ]
    },
    {
      "cell_type": "markdown",
      "metadata": {
        "id": "Dr2iu63mzg8M"
      },
      "source": [
        "## Evaluation\n",
        "\n",
        "The following cell downloads a pre-trained model provided by the M3DETR authors and uses it to run inference against the KITTI test split.\n",
        "\n",
        "My output:\n",
        "\n",
        "```bash\n",
        "Car AP@0.70, 0.70, 0.70:\n",
        "bbox AP:90.4188, 87.2058, 86.5413\n",
        "bev  AP:89.4501, 83.9316, 78.8657\n",
        "3d   AP:86.7184, 75.8649, 74.6789\n",
        "aos  AP:90.38, 87.06, 86.29\n",
        "Car AP_R40@0.70, 0.70, 0.70:\n",
        "bbox AP:95.7361, 88.6217, 88.4904\n",
        "bev  AP:92.1735, 84.3550, 82.5889\n",
        "3d   AP:88.0686, 76.3739, 74.2172\n",
        "aos  AP:95.68, 88.47, 88.23\n",
        "Car AP@0.70, 0.50, 0.50:\n",
        "bbox AP:90.4188, 87.2058, 86.5413\n",
        "bev  AP:90.4156, 87.8814, 87.6633\n",
        "3d   AP:90.4156, 87.7556, 87.4215\n",
        "aos  AP:90.38, 87.06, 86.29\n",
        "Car AP_R40@0.70, 0.50, 0.50:\n",
        "bbox AP:95.7361, 88.6217, 88.4904\n",
        "bev  AP:95.7337, 90.7920, 90.7031\n",
        "3d   AP:95.7115, 90.5816, 88.8729\n",
        "aos  AP:95.68, 88.47, 88.23\n",
        "Pedestrian AP@0.50, 0.50, 0.50:\n",
        "bbox AP:69.0836, 63.5830, 58.7152\n",
        "bev  AP:65.9262, 57.3184, 53.6799\n",
        "3d   AP:63.5804, 55.4299, 49.8286\n",
        "aos  AP:64.99, 59.24, 54.57\n",
        "Pedestrian AP_R40@0.50, 0.50, 0.50:\n",
        "bbox AP:70.6837, 62.6881, 58.4845\n",
        "bev  AP:66.0663, 56.6501, 51.7529\n",
        "3d   AP:63.5731, 54.2267, 49.1444\n",
        "aos  AP:66.08, 58.18, 53.92\n",
        "Pedestrian AP@0.50, 0.25, 0.25:\n",
        "bbox AP:69.0836, 63.5830, 58.7152\n",
        "bev  AP:75.7598, 68.1101, 65.2803\n",
        "3d   AP:75.6912, 67.9892, 65.0941\n",
        "aos  AP:64.99, 59.24, 54.57\n",
        "Pedestrian AP_R40@0.50, 0.25, 0.25:\n",
        "bbox AP:70.6837, 62.6881, 58.4845\n",
        "bev  AP:77.0143, 69.3589, 65.0146\n",
        "3d   AP:76.9322, 69.1994, 64.8358\n",
        "aos  AP:66.08, 58.18, 53.92\n",
        "Cyclist AP@0.50, 0.50, 0.50:\n",
        "bbox AP:88.7362, 69.4412, 68.4013\n",
        "bev  AP:87.6113, 66.6779, 64.6245\n",
        "3d   AP:85.4439, 64.5812, 62.6526\n",
        "aos  AP:88.39, 68.93, 67.83\n",
        "Cyclist AP_R40@0.50, 0.50, 0.50:\n",
        "bbox AP:92.1071, 72.0177, 69.4013\n",
        "bev  AP:90.7867, 67.4259, 64.5058\n",
        "3d   AP:88.2604, 64.9611, 60.8926\n",
        "aos  AP:91.72, 71.42, 68.75\n",
        "Cyclist AP@0.50, 0.25, 0.25:\n",
        "bbox AP:88.7362, 69.4412, 68.4013\n",
        "bev  AP:87.7892, 66.9322, 65.7805\n",
        "3d   AP:87.7892, 66.9322, 65.7805\n",
        "aos  AP:88.39, 68.93, 67.83\n",
        "Cyclist AP_R40@0.50, 0.25, 0.25:\n",
        "bbox AP:92.1071, 72.0177, 69.4013\n",
        "bev  AP:92.8184, 69.0203, 66.4031\n",
        "3d   AP:92.8184, 69.0203, 66.4031\n",
        "aos  AP:91.72, 71.42, 68.75\n",
        "```"
      ]
    },
    {
      "cell_type": "code",
      "execution_count": null,
      "metadata": {
        "id": "4dS5OFOvi6zA"
      },
      "outputs": [],
      "source": [
        "%%time\n",
        "\n",
        "# download pre-trained model\n",
        "!mkdir -p /content/models\n",
        "!cd /content/models && gdown 1Jwr9keDHVabebtf-ApSs7BH8-RDQIUmj\n",
        "\n",
        "# change to tools directory going forward\n",
        "%cd /content/M3DETR/tools\n",
        "\n",
        "# evaluate\n",
        "!python3 test.py --cfg_file ./cfgs/kitti_models/M3DETR.yaml --workers 1 \\\n",
        "  --ckpt /content/models/m3detr_kitti2.pth --eval_tag evaluation --batch_size 16"
      ]
    },
    {
      "cell_type": "markdown",
      "metadata": {
        "id": "wGkL4Xa0_ke5"
      },
      "source": [
        "## Training\n",
        "\n",
        "The following cell kicks off training against the full KITTI dataset."
      ]
    },
    {
      "cell_type": "code",
      "execution_count": null,
      "metadata": {
        "id": "u9_1movr_tI6"
      },
      "outputs": [],
      "source": [
        "%%time\n",
        "\n",
        "# train\n",
        "!python3 train.py --cfg_file ./cfgs/kitti_models/M3DETR.yaml --workers 1 --batch_size 4"
      ]
    }
  ],
  "metadata": {
    "colab": {
      "machine_shape": "hm",
      "provenance": [],
      "gpuType": "T4",
      "include_colab_link": true
    },
    "kernelspec": {
      "display_name": "Python 3",
      "name": "python3"
    },
    "language_info": {
      "name": "python"
    },
    "accelerator": "GPU"
  },
  "nbformat": 4,
  "nbformat_minor": 0
}
